{
 "cells": [
  {
   "cell_type": "code",
   "execution_count": 2,
   "metadata": {},
   "outputs": [],
   "source": [
    "import pandas as pd\n",
    "import os"
   ]
  },
  {
   "cell_type": "code",
   "execution_count": 3,
   "metadata": {},
   "outputs": [
    {
     "name": "stderr",
     "output_type": "stream",
     "text": [
      "C:\\Users\\fsarm\\AppData\\Local\\Temp\\ipykernel_26080\\1368242397.py:1: DtypeWarning: Columns (2,3,4,6,9,12,17,18,19) have mixed types. Specify dtype option on import or set low_memory=False.\n",
      "  branded=pd.read_csv('../Is_this_good/branded_food.csv')\n"
     ]
    }
   ],
   "source": [
    "branded=pd.read_csv('../Is_this_good/branded_food.csv')"
   ]
  },
  {
   "cell_type": "code",
   "execution_count": 6,
   "metadata": {},
   "outputs": [
    {
     "name": "stderr",
     "output_type": "stream",
     "text": [
      "C:\\Users\\fsarm\\AppData\\Local\\Temp\\ipykernel_1976\\4088716485.py:27: DtypeWarning: Columns (2,3,4,6,9,12,17,18,19) have mixed types. Specify dtype option on import or set low_memory=False.\n",
      "  df_name = pd.read_csv(file_path)\n",
      "C:\\Users\\fsarm\\AppData\\Local\\Temp\\ipykernel_1976\\4088716485.py:27: DtypeWarning: Columns (6) have mixed types. Specify dtype option on import or set low_memory=False.\n",
      "  df_name = pd.read_csv(file_path)\n",
      "C:\\Users\\fsarm\\AppData\\Local\\Temp\\ipykernel_1976\\4088716485.py:27: DtypeWarning: Columns (10) have mixed types. Specify dtype option on import or set low_memory=False.\n",
      "  df_name = pd.read_csv(file_path)\n"
     ]
    }
   ],
   "source": [
    "import os\n",
    "import pandas as pd\n",
    "\n",
    "def read_csv_files_in_folder(folder_path):\n",
    "    # Check if the given path is a valid directory\n",
    "    if not os.path.isdir(folder_path):\n",
    "        raise ValueError(\"Invalid directory path\")\n",
    "\n",
    "    # Get a list of all files in the directory\n",
    "    file_list = os.listdir(folder_path)\n",
    "\n",
    "    # Filter only CSV files\n",
    "    csv_files = [file for file in file_list if file.endswith(\".csv\")]\n",
    "\n",
    "    # Check if there are any CSV files in the directory\n",
    "    if not csv_files:\n",
    "        print(\"No CSV files found in the specified folder.\")\n",
    "        return None\n",
    "\n",
    "    # Create an empty dictionary to store DataFrames\n",
    "    dataframes = {}\n",
    "\n",
    "    # Loop through each CSV file and read it into a DataFrame\n",
    "    for csv_file in csv_files:\n",
    "        file_path = os.path.join(folder_path, csv_file)\n",
    "        df_name = os.path.splitext(csv_file)[0]  # Use the file name without extension as DataFrame name\n",
    "        df_name = pd.read_csv(file_path)\n",
    "\n",
    "    return dataframes\n",
    "\n",
    "# Example usage:\n",
    "folder_path = '../Is_this_good/'\n",
    "csv_dataframes = read_csv_files_in_folder(folder_path)\n",
    "\n",
    "\n",
    "# Now you have a dictionary where keys are the CSV file names (without extension),\n",
    "# and values are pandas DataFrames containing the data from each CSV file.\n"
   ]
  }
 ],
 "metadata": {
  "kernelspec": {
   "display_name": "base",
   "language": "python",
   "name": "python3"
  },
  "language_info": {
   "codemirror_mode": {
    "name": "ipython",
    "version": 3
   },
   "file_extension": ".py",
   "mimetype": "text/x-python",
   "name": "python",
   "nbconvert_exporter": "python",
   "pygments_lexer": "ipython3",
   "version": "3.11.5"
  }
 },
 "nbformat": 4,
 "nbformat_minor": 2
}
